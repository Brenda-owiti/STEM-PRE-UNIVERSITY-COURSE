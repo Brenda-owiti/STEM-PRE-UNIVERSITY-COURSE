{
 "cells": [
  {
   "cell_type": "code",
   "execution_count": 3,
   "metadata": {},
   "outputs": [
    {
     "name": "stdout",
     "output_type": "stream",
     "text": [
      "<class 'numpy.ndarray'>\n",
      "[31.36094675 29.12976442 29.41975607 24.47091413 29.42923554 45.24949877\n",
      " 30.63773833 29.52418516 25.51584102 17.98169078]\n"
     ]
    },
    {
     "data": {
      "text/plain": [
       "array([31.36094675, 29.12976442, 29.41975607, 29.42923554, 45.24949877,\n",
       "       30.63773833, 29.52418516])"
      ]
     },
     "execution_count": 3,
     "metadata": {},
     "output_type": "execute_result"
    }
   ],
   "source": [
    "#Numpy Arrays\n",
    "#these are great alteratives to python list\n",
    "#The key advantages is that they are fast, easy to work with and give users \n",
    "#an opportunity to perform calculations across entire arrays\n",
    "\n",
    "#Create 2 arrays .Weight and Height\n",
    "height = [1.56, 1.67, 1.82, 1.90, 1.76, 1.34, 1.56, 1.67, 1.83, 1.93]\n",
    "weight =[76.32, 81.24, 97.45, 88.34, 91.16, 81.25, 74.56, 82.34, 85.45, 66.98]\n",
    "#import numpy package\n",
    "import numpy as np\n",
    "\n",
    "#create both arrays in numpy from height and weight\n",
    "np_height = np.array(height)\n",
    "np_weight =np.array(weight)\n",
    "print(type(np_height))\n",
    "\n",
    "#Element.wise calculations\n",
    "bmi = np_weight / np_height ** 2\n",
    "print(bmi)\n",
    "\n",
    "\n",
    "\n",
    "#subsetting\n",
    "bmi > 29\n",
    "bmi[bmi > 29]\n",
    "                "
   ]
  },
  {
   "cell_type": "code",
   "execution_count": 6,
   "metadata": {},
   "outputs": [
    {
     "name": "stdout",
     "output_type": "stream",
     "text": [
      "   university      location     area  population\n",
      "0       Riara  Mbagathi Way  125.456         400\n",
      "1  Strathmore      Madaraka  320.376         934\n",
      "2        CUEA        Rongai  156.890         450\n",
      "3    Nazarene           CBD   95.392         328\n",
      "4     Daystar     Upperhill  245.430         765\n",
      "    university      location     area  population\n",
      "RI       Riara  Mbagathi Way  125.456         400\n",
      "ST  Strathmore      Madaraka  320.376         934\n",
      "CA        CUEA        Rongai  156.890         450\n",
      "NZ    Nazarene           CBD   95.392         328\n",
      "DS     Daystar     Upperhill  245.430         765\n"
     ]
    }
   ],
   "source": [
    "#panda basics\n",
    "#This is a high data manipulation tool built on numpy package and its key data\n",
    "#Structure is called data frame which allows you to store and manipulate tabular data\n",
    "#in rows of observation and columns of variations\n",
    "\n",
    "#There are differnt ways of creating DataFrames_One using dictionaries\n",
    "uni_dict = {\n",
    "    \"university\" :[\"Riara\", \"Strathmore\", \"CUEA\", \"Nazarene\", \"Daystar\"],\n",
    "    \"location\" :[\"Mbagathi Way\", \"Madaraka\", \"Rongai\", \"CBD\", \"Upperhill\"],\n",
    "    \"area\": [125.456, 320.376, 156.89, 95.392, 245.43],\n",
    "    \"population\" :[400, 934, 450, 328, 765 ]\n",
    "}\n",
    "#using pandas\n",
    "import pandas as pd\n",
    "dints = pd.DataFrame(uni_dict)\n",
    "print(dints)\n",
    "\n",
    "#We can rename the indexes so instead of 0 - 4 we have initials \n",
    "dints.index = [\"RI\",\"ST\", \"CA\", \"NZ\",\"DS\"]\n",
    "print(dints)"
   ]
  },
  {
   "cell_type": "code",
   "execution_count": null,
   "metadata": {},
   "outputs": [],
   "source": []
  }
 ],
 "metadata": {
  "kernelspec": {
   "display_name": "Python 3",
   "language": "python",
   "name": "python3"
  },
  "language_info": {
   "codemirror_mode": {
    "name": "ipython",
    "version": 3
   },
   "file_extension": ".py",
   "mimetype": "text/x-python",
   "name": "python",
   "nbconvert_exporter": "python",
   "pygments_lexer": "ipython3",
   "version": "3.7.3"
  }
 },
 "nbformat": 4,
 "nbformat_minor": 2
}
